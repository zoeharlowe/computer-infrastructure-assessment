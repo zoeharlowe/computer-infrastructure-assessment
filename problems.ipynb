{
 "cells": [
  {
   "cell_type": "markdown",
   "id": "1656346c",
   "metadata": {},
   "source": [
    "# Assessment Problems: Computer Infrastructure"
   ]
  },
  {
   "cell_type": "markdown",
   "id": "74e73131",
   "metadata": {},
   "source": [
    "## Imports"
   ]
  },
  {
   "cell_type": "code",
   "execution_count": 1,
   "id": "3331181c",
   "metadata": {},
   "outputs": [],
   "source": [
    "# Dates and times\n",
    "import datetime as dt\n",
    "\n",
    "# Numerical computing\n",
    "import numpy as np\n",
    "\n",
    "# Stock data from Yahoo Finance\n",
    "import yfinance as yf\n",
    "\n",
    "# Dataframes\n",
    "import pandas as pd"
   ]
  },
  {
   "cell_type": "markdown",
   "id": "637c90d8",
   "metadata": {},
   "source": [
    "## Problem 1: Data from yfinance"
   ]
  },
  {
   "cell_type": "markdown",
   "id": "7c76dd31",
   "metadata": {},
   "source": [
    "https://ranaroussi.github.io/yfinance/\n",
    "\n",
    "For this problem, I must:\n",
    "- Write a function called `get_data()`\n",
    "- This function downloads all hourly data from 5 companies from the past 5 days \n",
    "- The 5 companies are the 5 FAANG stocks: Facebook (META), Apple (AAPL), Amazon (AMZN), Netflix (NFLX), & Google (GOOG)\n",
    "- The function will save the data into the folder `data` and each filename will be in the following format: `YYYYMMDD-HHmmss.csv`"
   ]
  },
  {
   "cell_type": "markdown",
   "id": "5ecc873f",
   "metadata": {},
   "source": [
    "##### First, I used the `yf.Tickers` function to identify the stocks I needed."
   ]
  },
  {
   "cell_type": "code",
   "execution_count": 6,
   "id": "74e2546d",
   "metadata": {},
   "outputs": [],
   "source": [
    "# Identify the stocks I want to download\n",
    "tickers = yf.Tickers('META AAPL AMZN NFLX GOOG')"
   ]
  },
  {
   "cell_type": "markdown",
   "id": "7d22eedc",
   "metadata": {},
   "source": [
    "##### I had a look on https://algotrading101.com/learn/yfinance-guide/ to get a better idea of how to get the data and how to ask for a 5 day period with 1 hour intervals.\n",
    "##### Unfortunately, I got an error saying 'Too Many Requests. Rate limited. Try after a while.' "
   ]
  },
  {
   "cell_type": "code",
   "execution_count": 2,
   "id": "ebe1b566",
   "metadata": {},
   "outputs": [
    {
     "name": "stderr",
     "output_type": "stream",
     "text": [
      "C:\\Users\\ZMH\\AppData\\Local\\Temp\\ipykernel_18108\\3892786849.py:2: FutureWarning: YF.download() has changed argument auto_adjust default to True\n",
      "  df = yf.download(['META', 'AAPL', 'AMZN', 'NFLX', 'GOOG'], period='5d', interval='1h')\n",
      "[*********************100%***********************]  5 of 5 completed\n"
     ]
    }
   ],
   "source": [
    "# Download the data\n",
    "df = yf.download(['META', 'AAPL', 'AMZN', 'NFLX', 'GOOG'], period='5d', interval='1h')"
   ]
  },
  {
   "cell_type": "markdown",
   "id": "cefd5d94",
   "metadata": {},
   "source": [
    "Then I saved the dataframe to a CSV file (Ian McLoughlin, Lecture videos Week 5)"
   ]
  },
  {
   "cell_type": "code",
   "execution_count": 3,
   "id": "83605619",
   "metadata": {},
   "outputs": [],
   "source": [
    "# Save to a CSV file with the current date and time as the filename\n",
    "df.to_csv(dt.datetime.now().strftime(\"%Y%m%d-%H%M%S\") + \".csv\")"
   ]
  },
  {
   "cell_type": "code",
   "execution_count": null,
   "id": "a03143bc",
   "metadata": {},
   "outputs": [],
   "source": [
    "# Structure of the function\n",
    "def get_data():\n",
    "    FILENAME = dt.now().strftime(\"%Y%m%d-%H%M%S\") + \".csv\"\n",
    "    DATADIR = 'data/'\n",
    "    with open(FILENAME, 'w') as f:\n",
    "        df.to_csv(f)"
   ]
  },
  {
   "cell_type": "markdown",
   "id": "caa464f7",
   "metadata": {},
   "source": []
  },
  {
   "cell_type": "markdown",
   "id": "0bc4faf1",
   "metadata": {},
   "source": [
    "## Problem 2: Plotting Data"
   ]
  },
  {
   "cell_type": "markdown",
   "id": "ee215a4c",
   "metadata": {},
   "source": [
    "## Problem 3: Script"
   ]
  },
  {
   "cell_type": "markdown",
   "id": "b26e8a36",
   "metadata": {},
   "source": [
    "## Problem 4: Automation"
   ]
  },
  {
   "cell_type": "markdown",
   "id": "d3578a2e",
   "metadata": {},
   "source": [
    "## End"
   ]
  }
 ],
 "metadata": {
  "kernelspec": {
   "display_name": "base",
   "language": "python",
   "name": "python3"
  },
  "language_info": {
   "codemirror_mode": {
    "name": "ipython",
    "version": 3
   },
   "file_extension": ".py",
   "mimetype": "text/x-python",
   "name": "python",
   "nbconvert_exporter": "python",
   "pygments_lexer": "ipython3",
   "version": "3.12.12"
  }
 },
 "nbformat": 4,
 "nbformat_minor": 5
}
