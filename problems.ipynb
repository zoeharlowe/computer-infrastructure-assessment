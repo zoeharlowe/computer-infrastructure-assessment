{
 "cells": [
  {
   "cell_type": "markdown",
   "id": "1656346c",
   "metadata": {},
   "source": [
    "# Assessment Problems: Computer Infrastructure"
   ]
  },
  {
   "cell_type": "markdown",
   "id": "74e73131",
   "metadata": {},
   "source": [
    "## Imports"
   ]
  },
  {
   "cell_type": "code",
   "execution_count": 1,
   "id": "3331181c",
   "metadata": {},
   "outputs": [],
   "source": [
    "# Numerical computing\n",
    "import numpy as np"
   ]
  },
  {
   "cell_type": "markdown",
   "id": "637c90d8",
   "metadata": {},
   "source": [
    "## Problem 1: Data from yfinance"
   ]
  },
  {
   "cell_type": "markdown",
   "id": "0bc4faf1",
   "metadata": {},
   "source": [
    "## Problem 2: Plotting Data"
   ]
  },
  {
   "cell_type": "markdown",
   "id": "ee215a4c",
   "metadata": {},
   "source": [
    "## Problem 3: Script"
   ]
  },
  {
   "cell_type": "markdown",
   "id": "b26e8a36",
   "metadata": {},
   "source": [
    "## Problem 4: Automation"
   ]
  },
  {
   "cell_type": "markdown",
   "id": "d3578a2e",
   "metadata": {},
   "source": [
    "## End"
   ]
  }
 ],
 "metadata": {
  "kernelspec": {
   "display_name": "base",
   "language": "python",
   "name": "python3"
  },
  "language_info": {
   "codemirror_mode": {
    "name": "ipython",
    "version": 3
   },
   "file_extension": ".py",
   "mimetype": "text/x-python",
   "name": "python",
   "nbconvert_exporter": "python",
   "pygments_lexer": "ipython3",
   "version": "3.12.7"
  }
 },
 "nbformat": 4,
 "nbformat_minor": 5
}
