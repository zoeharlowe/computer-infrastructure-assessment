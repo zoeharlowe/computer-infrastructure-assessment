{
 "cells": [
  {
   "cell_type": "markdown",
   "id": "1656346c",
   "metadata": {},
   "source": [
    "# Assessment Problems: Computer Infrastructure"
   ]
  },
  {
   "cell_type": "markdown",
   "id": "74e73131",
   "metadata": {},
   "source": [
    "## Imports"
   ]
  },
  {
   "cell_type": "code",
   "execution_count": 3,
   "id": "3331181c",
   "metadata": {},
   "outputs": [],
   "source": [
    "# Numerical computing\n",
    "import numpy as np\n",
    "\n",
    "# Stock data from Yahoo Finance\n",
    "import yfinance as yf\n",
    "\n",
    "# Dataframes\n",
    "import pandas as pd"
   ]
  },
  {
   "cell_type": "markdown",
   "id": "637c90d8",
   "metadata": {},
   "source": [
    "## Problem 1: Data from yfinance"
   ]
  },
  {
   "cell_type": "markdown",
   "id": "7c76dd31",
   "metadata": {},
   "source": [
    "https://ranaroussi.github.io/yfinance/\n",
    "\n",
    "For this problem, I must:\n",
    "- Write a function called `get_data()`\n",
    "- This function downloads all hourly data from 5 companies from the past 5 days \n",
    "- The 5 companies are the 5 FAANG stocks: Facebook (META), Apple (AAPL), Amazon (AMZN), Netflix (NFLX), & Google (GOOG)\n",
    "- The function will save the data into the folder `data` and each filename will be in the following format: `YYYYMMDD-HHmmss.csv`"
   ]
  },
  {
   "cell_type": "markdown",
   "id": "5ecc873f",
   "metadata": {},
   "source": [
    "##### First, I used the `yf.Tickers` function to identify the stocks I needed."
   ]
  },
  {
   "cell_type": "code",
   "execution_count": 6,
   "id": "74e2546d",
   "metadata": {},
   "outputs": [],
   "source": [
    "# Identify the stocks I want to download\n",
    "tickers = yf.Tickers('META AAPL AMZN NFLX GOOG')"
   ]
  },
  {
   "cell_type": "markdown",
   "id": "7d22eedc",
   "metadata": {},
   "source": [
    "##### I had a look on https://algotrading101.com/learn/yfinance-guide/ to get a better idea of how to get the data and how to ask for a 5 day period with 1 hour intervals.\n",
    "##### Unfortunately, I got an error saying 'Too Many Requests. Rate limited. Try after a while.' "
   ]
  },
  {
   "cell_type": "code",
   "execution_count": null,
   "id": "ebe1b566",
   "metadata": {},
   "outputs": [
    {
     "name": "stderr",
     "output_type": "stream",
     "text": [
      "[*********************100%***********************]  4 of 4 completed\n",
      "\n",
      "4 Failed downloads:\n",
      "['NFLX', 'AMZN', 'AAPL', 'META']: YFRateLimitError('Too Many Requests. Rate limited. Try after a while.')\n"
     ]
    },
    {
     "data": {
      "text/html": [
       "<div>\n",
       "<style scoped>\n",
       "    .dataframe tbody tr th:only-of-type {\n",
       "        vertical-align: middle;\n",
       "    }\n",
       "\n",
       "    .dataframe tbody tr th {\n",
       "        vertical-align: top;\n",
       "    }\n",
       "\n",
       "    .dataframe thead tr th {\n",
       "        text-align: left;\n",
       "    }\n",
       "\n",
       "    .dataframe thead tr:last-of-type th {\n",
       "        text-align: right;\n",
       "    }\n",
       "</style>\n",
       "<table border=\"1\" class=\"dataframe\">\n",
       "  <thead>\n",
       "    <tr>\n",
       "      <th>Price</th>\n",
       "      <th colspan=\"4\" halign=\"left\">Adj Close</th>\n",
       "      <th colspan=\"4\" halign=\"left\">Close</th>\n",
       "      <th colspan=\"2\" halign=\"left\">High</th>\n",
       "      <th>...</th>\n",
       "      <th colspan=\"2\" halign=\"left\">Low</th>\n",
       "      <th colspan=\"4\" halign=\"left\">Open</th>\n",
       "      <th colspan=\"4\" halign=\"left\">Volume</th>\n",
       "    </tr>\n",
       "    <tr>\n",
       "      <th>Ticker</th>\n",
       "      <th>AAPL</th>\n",
       "      <th>AMZN</th>\n",
       "      <th>META</th>\n",
       "      <th>NFLX</th>\n",
       "      <th>AAPL</th>\n",
       "      <th>AMZN</th>\n",
       "      <th>META</th>\n",
       "      <th>NFLX</th>\n",
       "      <th>AAPL</th>\n",
       "      <th>AMZN</th>\n",
       "      <th>...</th>\n",
       "      <th>META</th>\n",
       "      <th>NFLX</th>\n",
       "      <th>AAPL</th>\n",
       "      <th>AMZN</th>\n",
       "      <th>META</th>\n",
       "      <th>NFLX</th>\n",
       "      <th>AAPL</th>\n",
       "      <th>AMZN</th>\n",
       "      <th>META</th>\n",
       "      <th>NFLX</th>\n",
       "    </tr>\n",
       "    <tr>\n",
       "      <th>Date</th>\n",
       "      <th></th>\n",
       "      <th></th>\n",
       "      <th></th>\n",
       "      <th></th>\n",
       "      <th></th>\n",
       "      <th></th>\n",
       "      <th></th>\n",
       "      <th></th>\n",
       "      <th></th>\n",
       "      <th></th>\n",
       "      <th></th>\n",
       "      <th></th>\n",
       "      <th></th>\n",
       "      <th></th>\n",
       "      <th></th>\n",
       "      <th></th>\n",
       "      <th></th>\n",
       "      <th></th>\n",
       "      <th></th>\n",
       "      <th></th>\n",
       "      <th></th>\n",
       "    </tr>\n",
       "  </thead>\n",
       "  <tbody>\n",
       "  </tbody>\n",
       "</table>\n",
       "<p>0 rows × 24 columns</p>\n",
       "</div>"
      ],
      "text/plain": [
       "Empty DataFrame\n",
       "Columns: [(Adj Close, AAPL), (Adj Close, AMZN), (Adj Close, META), (Adj Close, NFLX), (Close, AAPL), (Close, AMZN), (Close, META), (Close, NFLX), (High, AAPL), (High, AMZN), (High, META), (High, NFLX), (Low, AAPL), (Low, AMZN), (Low, META), (Low, NFLX), (Open, AAPL), (Open, AMZN), (Open, META), (Open, NFLX), (Volume, AAPL), (Volume, AMZN), (Volume, META), (Volume, NFLX)]\n",
       "Index: []\n",
       "\n",
       "[0 rows x 24 columns]"
      ]
     },
     "execution_count": 9,
     "metadata": {},
     "output_type": "execute_result"
    }
   ],
   "source": [
    "# Download the data\n",
    "df = yf.download(['META', 'AAPL', 'AMZN', 'NFLX', 'GOOG'], period='5d', interval='1h')"
   ]
  },
  {
   "cell_type": "code",
   "execution_count": null,
   "id": "a03143bc",
   "metadata": {},
   "outputs": [],
   "source": [
    "# Structure of the function\n",
    "def get_data():\n",
    "    FILENAME = datetime.now().strftime(\"%Y%m%d-%H%M%S\") + '.csv'\n",
    "    DATADIR = 'data/'\n",
    "    with open(FILENAME, 'w') as f:\n",
    "        df.to_csv(f)"
   ]
  },
  {
   "cell_type": "markdown",
   "id": "caa464f7",
   "metadata": {},
   "source": []
  },
  {
   "cell_type": "markdown",
   "id": "0bc4faf1",
   "metadata": {},
   "source": [
    "## Problem 2: Plotting Data"
   ]
  },
  {
   "cell_type": "markdown",
   "id": "ee215a4c",
   "metadata": {},
   "source": [
    "## Problem 3: Script"
   ]
  },
  {
   "cell_type": "markdown",
   "id": "b26e8a36",
   "metadata": {},
   "source": [
    "## Problem 4: Automation"
   ]
  },
  {
   "cell_type": "markdown",
   "id": "d3578a2e",
   "metadata": {},
   "source": [
    "## End"
   ]
  }
 ],
 "metadata": {
  "kernelspec": {
   "display_name": "base",
   "language": "python",
   "name": "python3"
  },
  "language_info": {
   "codemirror_mode": {
    "name": "ipython",
    "version": 3
   },
   "file_extension": ".py",
   "mimetype": "text/x-python",
   "name": "python",
   "nbconvert_exporter": "python",
   "pygments_lexer": "ipython3",
   "version": "3.12.12"
  }
 },
 "nbformat": 4,
 "nbformat_minor": 5
}
